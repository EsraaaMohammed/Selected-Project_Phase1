{
  "nbformat": 4,
  "nbformat_minor": 0,
  "metadata": {
    "colab": {
      "provenance": [],
      "toc_visible": true,
      "authorship_tag": "ABX9TyONJtlsZIQ91X8Z7Hee2r8t",
      "include_colab_link": true
    },
    "kernelspec": {
      "name": "python3",
      "display_name": "Python 3"
    },
    "language_info": {
      "name": "python"
    }
  },
  "cells": [
    {
      "cell_type": "markdown",
      "metadata": {
        "id": "view-in-github",
        "colab_type": "text"
      },
      "source": [
        "<a href=\"https://colab.research.google.com/github/EsraaaMohammed/Selected-Project_Phase1/blob/main/Project_phase1.ipynb\" target=\"_parent\"><img src=\"https://colab.research.google.com/assets/colab-badge.svg\" alt=\"Open In Colab\"/></a>"
      ]
    },
    {
      "cell_type": "code",
      "execution_count": 1,
      "metadata": {
        "id": "b-qcCrHoHDZ8"
      },
      "outputs": [],
      "source": [
        "import pandas as pd\n",
        "import numpy as np\n",
        "import matplotlib.pyplot as plt\n",
        "from sklearn.preprocessing import OneHotEncoder, StandardScaler, PolynomialFeatures\n",
        "from sklearn.model_selection import train_test_split\n",
        "from sklearn.linear_model import LinearRegression\n",
        "from sklearn.metrics import mean_squared_error\n",
        "from sklearn.compose import ColumnTransformer\n",
        "from sklearn.impute import SimpleImputer"
      ]
    },
    {
      "cell_type": "code",
      "source": [
        "dataset = pd.read_csv('Salary Data.csv')\n",
        "X = dataset.iloc[:, :-1].values\n",
        "y = dataset.iloc[:, -1].values"
      ],
      "metadata": {
        "id": "i1jMJQGuVG9_"
      },
      "execution_count": 2,
      "outputs": []
    },
    {
      "cell_type": "code",
      "source": [
        "imputer = SimpleImputer(missing_values=np.nan, strategy='mean')\n",
        "imputer.fit(X[:, [0, 4]])  # تطبيق التعويض على الأعمدة العددية فقط\n",
        "X[:, [0, 4]] = imputer.transform(X[:, [0, 4]])"
      ],
      "metadata": {
        "id": "IrQGZsVfVLSD"
      },
      "execution_count": 3,
      "outputs": []
    },
    {
      "cell_type": "code",
      "source": [
        "y = y.reshape(-1, 1)  # تحويل y إلى مصفوفة 2D عشان ينفع نطبّق عليه imputer\n",
        "imputer_y = SimpleImputer(missing_values=np.nan, strategy='mean')\n",
        "imputer_y.fit(y)\n",
        "y = imputer_y.transform(y)\n",
        "y = y.ravel()  # تحويل y تاني إلى 1D بعد التعويض"
      ],
      "metadata": {
        "id": "-UdRUqHceWHr"
      },
      "execution_count": 4,
      "outputs": []
    },
    {
      "cell_type": "code",
      "source": [
        "print(X)"
      ],
      "metadata": {
        "colab": {
          "base_uri": "https://localhost:8080/"
        },
        "id": "jUu_LTj3VYNw",
        "outputId": "0686e6fc-6001-4fe3-aa23-07ac9cd1e6e4"
      },
      "execution_count": 5,
      "outputs": [
        {
          "output_type": "stream",
          "name": "stdout",
          "text": [
            "[[32.0 'Male' \"Bachelor's\" 'Software Engineer' 5.0]\n",
            " [28.0 'Female' \"Master's\" 'Data Analyst' 3.0]\n",
            " [45.0 'Male' 'PhD' 'Senior Manager' 15.0]\n",
            " ...\n",
            " [29.0 'Female' \"Bachelor's\" 'Junior Project Manager' 2.0]\n",
            " [34.0 'Male' \"Bachelor's\" 'Senior Operations Coordinator' 7.0]\n",
            " [44.0 'Female' 'PhD' 'Senior Business Analyst' 15.0]]\n"
          ]
        }
      ]
    },
    {
      "cell_type": "code",
      "source": [
        "print(y)"
      ],
      "metadata": {
        "colab": {
          "base_uri": "https://localhost:8080/"
        },
        "id": "Y9-oLNzgeYWQ",
        "outputId": "822101bc-53cc-4cfb-f216-39473bc5dbfe"
      },
      "execution_count": 6,
      "outputs": [
        {
          "output_type": "stream",
          "name": "stdout",
          "text": [
            "[ 90000.         65000.        150000.         60000.\n",
            " 200000.         55000.        120000.         80000.\n",
            "  45000.        110000.         75000.        140000.\n",
            "  65000.        130000.         40000.        125000.\n",
            "  90000.        115000.         35000.        180000.\n",
            "  80000.        190000.         50000.         60000.\n",
            " 140000.         45000.        110000.         40000.\n",
            " 140000.         90000.        250000.         55000.\n",
            "  75000.         65000.        170000.         45000.\n",
            "  60000.        115000.         40000.        160000.\n",
            "  80000.        190000.         60000.         45000.\n",
            " 130000.         40000.         75000.        180000.\n",
            " 120000.         35000.        130000.         85000.\n",
            "  60000.        200000.         50000.         95000.\n",
            "  65000.        140000.         55000.        105000.\n",
            " 170000.         50000.         80000.        180000.\n",
            "  35000.         90000.        120000.         45000.\n",
            "  90000.        150000.         65000.         70000.\n",
            " 190000.         40000.        120000.         95000.\n",
            " 160000.        100000.        180000.         55000.\n",
            "  70000.         80000.         30000.        250000.\n",
            "  40000.         95000.         45000.         80000.\n",
            " 135000.         55000.        120000.         40000.\n",
            " 105000.        170000.         75000.         65000.\n",
            " 160000.         35000.         90000.        110000.\n",
            "  45000.         95000.        150000.         50000.\n",
            "  80000.        220000.         50000.         60000.\n",
            " 100000.         40000.        110000.         95000.\n",
            " 130000.         90000.         35000.         95000.\n",
            "  65000.        170000.         45000.        120000.\n",
            " 100000.        180000.         50000.         80000.\n",
            " 140000.         40000.         95000.        110000.\n",
            "  50000.        105000.        160000.         45000.\n",
            " 100000.        160000.         35000.         55000.\n",
            " 140000.         50000.         60000.        120000.\n",
            "  40000.        110000.         50000.        135000.\n",
            "  40000.         90000.        150000.         60000.\n",
            "  80000.        175000.         45000.        120000.\n",
            " 140000.         35000.         95000.        110000.\n",
            "  50000.        115000.        185000.         40000.\n",
            "  90000.        175000.         45000.         80000.\n",
            " 120000.         35000.        110000.        150000.\n",
            "  50000.        105000.        180000.         40000.\n",
            " 100577.3458445 140000.         45000.         85000.\n",
            " 140000.         50000.         80000.        170000.\n",
            "  40000.        105000.        145000.         40000.\n",
            "  85000.        130000.         95000.        100000.\n",
            " 180000.         35000.         95000.        170000.\n",
            "  45000.         95000.        120000.         40000.\n",
            "  90000.        155000.         55000.        110000.\n",
            " 180000.         45000.        130000.         45000.\n",
            "  90000.        160000.         50000.        120000.\n",
            " 170000.         40000.        110000.        150000.\n",
            "  40000.         85000.        130000.        100000.\n",
            "  95000.        180000.         35000.        100000.\n",
            " 170000.         45000.        100000.        140000.\n",
            "  40000.        105000.        160000.         70000.\n",
            " 120000.        190000.         45000.        120000.\n",
            "  50000.         85000.        140000.         45000.\n",
            " 100000.        140000.         70000.        120000.\n",
            " 160000.         40000.        120000.        150000.\n",
            "  70000.         95000.        180000.         50000.\n",
            "  95000.        170000.         40000.        110000.\n",
            " 150000.         40000.         85000.        130000.\n",
            " 100000.         95000.        180000.           350.\n",
            " 100577.3458445 120000.        160000.         50000.\n",
            " 110000.         40000.         95000.        140000.\n",
            "  60000.        110000.        150000.         60000.\n",
            "  90000.        180000.         40000.        120000.\n",
            " 160000.         70000.         95000.        180000.\n",
            "  50000.         95000.        170000.         35000.\n",
            " 100000.        150000.         60000.         85000.\n",
            " 130000.         65000.        110000.        180000.\n",
            "  40000.         90000.        140000.         60000.\n",
            " 130000.        160000.         40000.        100000.\n",
            " 180000.         55000.        120000.        150000.\n",
            "  70000.         95000.        180000.         50000.\n",
            " 120000.        170000.         35000.        100000.\n",
            " 150000.         60000.         85000.        130000.\n",
            "  80000.         95000.         40000.        120000.\n",
            " 160000.         65000.        130000.        180000.\n",
            "  40000.        100000.        150000.         55000.\n",
            " 110000.        180000.         50000.        130000.\n",
            " 160000.         60000.         95000.        170000.\n",
            "  40000.         90000.        150000.         70000.\n",
            "  90000.        170000.         50000.        150000.\n",
            " 160000.         60000.         85000.        180000.\n",
            "  35000.        110000.        160000.         55000.\n",
            " 110000.        180000.         50000.        130000.\n",
            " 160000.         60000.         95000.        170000.\n",
            "  40000.         90000.        150000.         70000.\n",
            "  90000.        170000.         50000.        150000.\n",
            " 160000.         60000.         85000.        170000.\n",
            "  40000.         90000.        150000.       ]\n"
          ]
        }
      ]
    },
    {
      "cell_type": "code",
      "source": [
        "ct = ColumnTransformer(transformers=[('encoder', OneHotEncoder(), [1, 2, 3])], remainder='passthrough')\n",
        "#X = np.array(ct.fit_transform(X))\n",
        "X = ct.fit_transform(X).toarray()"
      ],
      "metadata": {
        "id": "y31QELyfXOm-"
      },
      "execution_count": 7,
      "outputs": []
    },
    {
      "cell_type": "code",
      "source": [
        "print(X)"
      ],
      "metadata": {
        "colab": {
          "base_uri": "https://localhost:8080/"
        },
        "id": "_QndpUwxXQNO",
        "outputId": "948c0f3d-26b6-432c-c148-05c13b5370cc"
      },
      "execution_count": 8,
      "outputs": [
        {
          "output_type": "stream",
          "name": "stdout",
          "text": [
            "[[ 0.  1.  0. ...  0. 32.  5.]\n",
            " [ 1.  0.  0. ...  0. 28.  3.]\n",
            " [ 0.  1.  0. ...  0. 45. 15.]\n",
            " ...\n",
            " [ 1.  0.  0. ...  0. 29.  2.]\n",
            " [ 0.  1.  0. ...  0. 34.  7.]\n",
            " [ 1.  0.  0. ...  0. 44. 15.]]\n"
          ]
        }
      ]
    },
    {
      "cell_type": "code",
      "source": [
        "X_train, X_test, y_train, y_test = train_test_split(X, y, test_size = 0.2, random_state = 42)"
      ],
      "metadata": {
        "id": "ToYKWH8OXSCb"
      },
      "execution_count": 9,
      "outputs": []
    },
    {
      "cell_type": "code",
      "source": [
        "print(X_train)"
      ],
      "metadata": {
        "colab": {
          "base_uri": "https://localhost:8080/"
        },
        "id": "BKy-TQarXZcD",
        "outputId": "d4e19153-707e-48d6-9905-ab9ee93bbd13"
      },
      "execution_count": 10,
      "outputs": [
        {
          "output_type": "stream",
          "name": "stdout",
          "text": [
            "[[ 0.  1.  0. ...  0. 34.  7.]\n",
            " [ 0.  1.  0. ...  0. 37. 10.]\n",
            " [ 1.  0.  0. ...  0. 29.  2.]\n",
            " ...\n",
            " [ 0.  1.  0. ...  0. 45. 16.]\n",
            " [ 1.  0.  0. ...  0. 28.  1.]\n",
            " [ 1.  0.  0. ...  0. 49. 19.]]\n"
          ]
        }
      ]
    },
    {
      "cell_type": "code",
      "source": [
        "print(X_test)"
      ],
      "metadata": {
        "colab": {
          "base_uri": "https://localhost:8080/"
        },
        "id": "vaJxtzQlXdfh",
        "outputId": "58961343-053f-44b1-e523-55e09db92524"
      },
      "execution_count": 11,
      "outputs": [
        {
          "output_type": "stream",
          "name": "stdout",
          "text": [
            "[[ 0.  1.  0. ...  0. 46. 18.]\n",
            " [ 1.  0.  0. ...  0. 39. 10.]\n",
            " [ 0.  1.  0. ...  0. 44. 16.]\n",
            " ...\n",
            " [ 1.  0.  0. ...  0. 44. 16.]\n",
            " [ 1.  0.  0. ...  0. 44. 15.]\n",
            " [ 0.  1.  0. ...  0. 36.  8.]]\n"
          ]
        }
      ]
    },
    {
      "cell_type": "code",
      "source": [
        "print(y_train)"
      ],
      "metadata": {
        "colab": {
          "base_uri": "https://localhost:8080/"
        },
        "id": "Lfkf9gjAXdjN",
        "outputId": "22c45626-b1ac-4a65-dd79-0d057b3ac6aa"
      },
      "execution_count": 12,
      "outputs": [
        {
          "output_type": "stream",
          "name": "stdout",
          "text": [
            "[ 95000.         95000.         40000.         70000.\n",
            "  90000.        120000.        100000.         80000.\n",
            "  90000.         65000.        130000.        100000.\n",
            " 120000.        130000.        110000.         70000.\n",
            " 170000.        185000.         40000.        140000.\n",
            " 120000.        110000.        115000.        120000.\n",
            " 140000.         45000.         55000.         50000.\n",
            "  35000.         40000.         50000.        180000.\n",
            "  85000.         95000.         70000.         90000.\n",
            " 140000.         55000.        180000.         40000.\n",
            "  55000.         50000.         35000.         60000.\n",
            "  80000.         60000.         45000.         80000.\n",
            "  55000.         60000.         35000.         40000.\n",
            "  70000.         60000.        120000.         85000.\n",
            " 140000.        105000.         95000.         95000.\n",
            " 120000.         60000.        180000.         75000.\n",
            "  40000.         50000.         80000.         40000.\n",
            " 120000.        120000.         35000.         80000.\n",
            " 130000.        140000.         60000.         40000.\n",
            " 105000.        150000.         40000.        160000.\n",
            " 135000.        170000.         35000.        160000.\n",
            "  90000.         60000.        115000.         40000.\n",
            "  50000.         45000.        180000.        180000.\n",
            " 100000.         70000.         40000.        150000.\n",
            " 150000.         45000.         85000.        145000.\n",
            " 150000.         40000.         95000.         40000.\n",
            " 160000.         60000.        160000.        105000.\n",
            "  40000.        140000.        180000.        130000.\n",
            "  55000.        130000.        170000.         95000.\n",
            "  85000.        170000.         85000.         40000.\n",
            "  90000.        150000.        120000.        105000.\n",
            " 140000.         95000.        110000.        155000.\n",
            " 150000.        150000.         90000.         95000.\n",
            " 110000.         40000.        110000.        100000.\n",
            " 150000.         50000.         65000.        110000.\n",
            " 120000.        180000.         90000.        250000.\n",
            "  60000.         60000.        100000.        190000.\n",
            " 160000.         85000.         70000.        130000.\n",
            " 130000.         90000.        110000.         95000.\n",
            "  95000.         65000.         40000.         65000.\n",
            "  45000.        140000.        180000.         50000.\n",
            " 130000.         95000.         45000.        120000.\n",
            "  45000.         45000.        170000.         85000.\n",
            " 160000.         95000.         65000.         35000.\n",
            "  80000.         90000.         80000.        190000.\n",
            "  55000.        130000.         50000.         85000.\n",
            " 100000.        200000.        100000.         95000.\n",
            "  45000.        160000.        170000.         85000.\n",
            "  40000.         90000.        100000.         50000.\n",
            " 180000.         75000.        140000.        180000.\n",
            " 160000.         40000.        110000.         45000.\n",
            " 100577.3458445  45000.         95000.         60000.\n",
            "  80000.         55000.         50000.         45000.\n",
            "  35000.         40000.         50000.         80000.\n",
            "  50000.         55000.         95000.        180000.\n",
            " 130000.        100000.        120000.         40000.\n",
            "  60000.         90000.        110000.        170000.\n",
            " 170000.        150000.        110000.         45000.\n",
            " 175000.         45000.        180000.         95000.\n",
            " 170000.           350.        220000.        200000.\n",
            "  65000.         35000.         70000.        160000.\n",
            " 170000.         50000.         40000.         60000.\n",
            " 110000.         40000.        130000.        130000.\n",
            " 135000.        180000.        110000.        110000.\n",
            " 160000.         35000.        180000.         90000.\n",
            " 120000.        150000.         50000.        130000.\n",
            "  45000.         35000.         40000.        100000.\n",
            " 105000.         55000.        120000.        160000.\n",
            "  45000.        150000.        190000.         60000.\n",
            "  90000.        160000.        170000.         90000.\n",
            " 150000.         95000.        120000.        175000.\n",
            " 160000.        120000.        170000.        110000.\n",
            "  80000.         50000.        130000.        180000.\n",
            " 150000.         80000.        180000.         70000.\n",
            "  50000.        150000.         35000.        150000.       ]\n"
          ]
        }
      ]
    },
    {
      "cell_type": "code",
      "source": [
        "print(y_test)"
      ],
      "metadata": {
        "colab": {
          "base_uri": "https://localhost:8080/"
        },
        "id": "r9KXvecIXdmm",
        "outputId": "4c01d4d6-e184-4e23-a2fe-7361cefded1a"
      },
      "execution_count": 13,
      "outputs": [
        {
          "output_type": "stream",
          "name": "stdout",
          "text": [
            "[150000.         65000.        125000.         80000.\n",
            " 140000.        180000.        160000.        120000.\n",
            "  50000.         95000.        140000.        160000.\n",
            "  40000.         95000.         65000.        160000.\n",
            "  90000.         50000.         90000.         95000.\n",
            " 110000.        105000.        190000.         70000.\n",
            " 120000.         50000.        180000.        100577.3458445\n",
            " 140000.        170000.         45000.        100000.\n",
            "  60000.        150000.        115000.         35000.\n",
            " 180000.         50000.         35000.         50000.\n",
            "  40000.         95000.        250000.        170000.\n",
            "  40000.        140000.        120000.         65000.\n",
            "  55000.         40000.        120000.         90000.\n",
            "  85000.        100000.        170000.         60000.\n",
            " 170000.         60000.         45000.        100000.\n",
            " 100000.        140000.        180000.         75000.\n",
            "  40000.         40000.         50000.        110000.\n",
            "  40000.         30000.         75000.         90000.\n",
            " 160000.        150000.        110000.       ]\n"
          ]
        }
      ]
    },
    {
      "cell_type": "code",
      "source": [
        "sc = StandardScaler()\n",
        "X_train = sc.fit_transform(X_train)\n",
        "X_test = sc.transform(X_test)"
      ],
      "metadata": {
        "id": "Z6qK7GhPXnsY"
      },
      "execution_count": 14,
      "outputs": []
    },
    {
      "cell_type": "code",
      "source": [
        "print(X_train)"
      ],
      "metadata": {
        "colab": {
          "base_uri": "https://localhost:8080/"
        },
        "id": "jfA43Oi6XsFK",
        "outputId": "cd492fab-a97c-4a60-ee97-32982be0d0cf"
      },
      "execution_count": 15,
      "outputs": [
        {
          "output_type": "stream",
          "name": "stdout",
          "text": [
            "[[-0.98675438  0.99335541 -0.05783149 ... -0.05783149 -0.50558015\n",
            "  -0.47750214]\n",
            " [-0.98675438  0.99335541 -0.05783149 ... -0.05783149 -0.07648871\n",
            "  -0.01417315]\n",
            " [ 1.01342342 -1.00668904 -0.05783149 ... -0.05783149 -1.22073256\n",
            "  -1.24971713]\n",
            " ...\n",
            " [-0.98675438  0.99335541 -0.05783149 ... -0.05783149  1.06775513\n",
            "   0.91248484]\n",
            " [ 1.01342342 -1.00668904 -0.05783149 ... -0.05783149 -1.36376304\n",
            "  -1.40416012]\n",
            " [ 1.01342342 -1.00668904 -0.05783149 ... -0.05783149  1.63987705\n",
            "   1.37581383]]\n"
          ]
        }
      ]
    },
    {
      "cell_type": "code",
      "source": [
        "print(X_test)"
      ],
      "metadata": {
        "colab": {
          "base_uri": "https://localhost:8080/"
        },
        "id": "ul-6o4bHXsId",
        "outputId": "070419e3-ae07-4704-ac26-818dd2478a79"
      },
      "execution_count": 16,
      "outputs": [
        {
          "output_type": "stream",
          "name": "stdout",
          "text": [
            "[[-0.98675438  0.99335541 -0.05783149 ... -0.05783149  1.21078561\n",
            "   1.22137083]\n",
            " [ 1.01342342 -1.00668904 -0.05783149 ... -0.05783149  0.20957225\n",
            "  -0.01417315]\n",
            " [-0.98675438  0.99335541 -0.05783149 ... -0.05783149  0.92472465\n",
            "   0.91248484]\n",
            " ...\n",
            " [ 1.01342342 -1.00668904 -0.05783149 ... -0.05783149  0.92472465\n",
            "   0.91248484]\n",
            " [ 1.01342342 -1.00668904 -0.05783149 ... -0.05783149  0.92472465\n",
            "   0.75804184]\n",
            " [-0.98675438  0.99335541 -0.05783149 ... -0.05783149 -0.21951919\n",
            "  -0.32305914]]\n"
          ]
        }
      ]
    },
    {
      "cell_type": "code",
      "source": [
        "degrees = [1, 2, 3]\n",
        "mse_values = []\n",
        "\n",
        "for degree in degrees:\n",
        "    poly = PolynomialFeatures(degree=degree)\n",
        "    X_poly_train = poly.fit_transform(X_train)\n",
        "    X_poly_test = poly.transform(X_test)\n",
        "\n",
        "    lin_reg = LinearRegression()\n",
        "    lin_reg.fit(X_poly_train, y_train)\n",
        "\n",
        "    y_pred = lin_reg.predict(X_poly_test)\n",
        "    mse = mean_squared_error(y_test, y_pred)\n",
        "    mse_values.append(mse)\n",
        "\n",
        "for d, mse in zip(degrees, mse_values):\n",
        "    print(f\"Degree {d}: MSE = {mse}\")\n"
      ],
      "metadata": {
        "colab": {
          "base_uri": "https://localhost:8080/"
        },
        "id": "1ywBf4gzXzEt",
        "outputId": "ff198a42-354c-471a-d833-7b58d6bea0ac"
      },
      "execution_count": 17,
      "outputs": [
        {
          "output_type": "stream",
          "name": "stdout",
          "text": [
            "Degree 1: MSE = 358214347.52876544\n",
            "Degree 2: MSE = 11482427925.853903\n",
            "Degree 3: MSE = 2320230939.4465513\n"
          ]
        }
      ]
    },
    {
      "cell_type": "code",
      "source": [
        "plt.plot(degrees, mse_values, marker='o', linestyle='-')\n",
        "plt.xlabel('Polynomial Degree')\n",
        "plt.ylabel('Mean Squared Error')\n",
        "plt.title('Polynomial Degree vs. MSE')\n",
        "plt.yscale('log')\n",
        "plt.show()"
      ],
      "metadata": {
        "colab": {
          "base_uri": "https://localhost:8080/",
          "height": 472
        },
        "id": "9xBf_Sp6YjuM",
        "outputId": "e323468d-49ac-44a2-981a-af0950213fa2"
      },
      "execution_count": 18,
      "outputs": [
        {
          "output_type": "display_data",
          "data": {
            "text/plain": [
              "<Figure size 640x480 with 1 Axes>"
            ],
            "image/png": "[encoded data removed]"
          },
          "metadata": {}
        }
      ]
    },
    {
      "cell_type": "code",
      "source": [
        "best_degree = degrees[np.argmin(mse_values)]\n",
        "print(f\"Best Degree is: {best_degree} MSE = {min(mse_values)}\")"
      ],
      "metadata": {
        "colab": {
          "base_uri": "https://localhost:8080/"
        },
        "id": "wNWvQFoa0-ci",
        "outputId": "e7cb7797-ac45-4f8f-e9cc-317140534514"
      },
      "execution_count": 19,
      "outputs": [
        {
          "output_type": "stream",
          "name": "stdout",
          "text": [
            "Best Degree is: 1 MSE = 358214347.52876544\n"
          ]
        }
      ]
    }
  ]
}